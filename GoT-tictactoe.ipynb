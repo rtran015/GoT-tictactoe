{
 "cells": [
  {
   "cell_type": "code",
   "execution_count": 1,
   "metadata": {},
   "outputs": [],
   "source": [
    "from IPython.display import clear_output\n",
    "\n",
    "def display_board(board):\n",
    "    \n",
    "    print(board[7]+\" | \"+board[8]+\" | \"+board[9])\n",
    "    print(board[4]+\" | \"+board[5]+\" | \"+board[6])\n",
    "    print(board[1]+\" | \"+board[2]+\" | \"+board[3])"
   ]
  },
  {
   "cell_type": "code",
   "execution_count": 2,
   "metadata": {},
   "outputs": [
    {
     "name": "stdout",
     "output_type": "stream",
     "text": [
      "1. Tyrion Lannister\n",
      "2. Cersei Lannister\n",
      "3. Daenerys Targaryen\n",
      "4. Jon Snow\n",
      "5. Sansa Stark\n",
      "6. Arya Stark\n",
      "7. Jaime Lannister\n",
      "8. Bran Stark\n",
      "9. Samwell Tarly\n"
     ]
    }
   ],
   "source": [
    "# Display Character list\n",
    "\n",
    "char1 = \"1. Tyrion Lannister\"\n",
    "char2 = \"2. Cersei Lannister\"\n",
    "char3 = \"3. Daenerys Targaryen\"\n",
    "char4 = \"4. Jon Snow\"\n",
    "char5 = \"5. Sansa Stark\"\n",
    "char6 = \"6. Arya Stark\"\n",
    "char7 = \"7. Jaime Lannister\"\n",
    "char8 = \"8. Bran Stark\"\n",
    "char9 = \"9. Samwell Tarly\"\n",
    "\n",
    "\n",
    "character_list = [char1,char2,char3,char4,char5,char6,char7,char8,char9]\n",
    "\n",
    "def char_screen():\n",
    "    for char in character_list:\n",
    "        print(char)\n",
    "\n",
    "char_screen()\n"
   ]
  },
  {
   "cell_type": "code",
   "execution_count": 3,
   "metadata": {},
   "outputs": [
    {
     "ename": "SyntaxError",
     "evalue": "invalid syntax (<ipython-input-3-1adf6de8b04c>, line 18)",
     "output_type": "error",
     "traceback": [
      "\u001b[1;36m  File \u001b[1;32m\"<ipython-input-3-1adf6de8b04c>\"\u001b[1;36m, line \u001b[1;32m18\u001b[0m\n\u001b[1;33m    p1assign.global = 'Yes'\u001b[0m\n\u001b[1;37m                  ^\u001b[0m\n\u001b[1;31mSyntaxError\u001b[0m\u001b[1;31m:\u001b[0m invalid syntax\n"
     ]
    }
   ],
   "source": [
    "# Have players select their characters v3\n",
    "player1_character = ''\n",
    "player2_character = ''\n",
    "p1assign = ''\n",
    "p2assign = ''\n",
    "\n",
    "def player_character():\n",
    "    \n",
    "    def player_character1():\n",
    "    \n",
    "        # Keep asking Player 1 to choose a character    \n",
    "        player1_character = input(\"Player 1 - Choose a character by inputting a number from the screen:\")\n",
    "\n",
    "        # Assign desired character to Player 1    \n",
    "        for char in character_list:\n",
    "            if player1_character == char[0]:\n",
    "                player1_character = char\n",
    "                p1assign.global = 'Yes'\n",
    "    \n",
    "    def player_character2():\n",
    "        \n",
    "        # When Player 1 character assigned, ask Player 2 to choose a character\n",
    "        if p1assign == 'Yes':\n",
    "            # Keep asking Player 2 to choose a character    \n",
    "            player2_character = input(\"Player 2 - Choose a character by inputting a number from the screen:\")\n",
    "\n",
    "            # Assign desired character to Player 2    \n",
    "            for char in character_list:\n",
    "                if player2_character == char[0]:\n",
    "                    player2_character = char\n",
    "                    p2assign = 'Yes'\n",
    "\n",
    "    player_character1()\n",
    "    player_character2()\n",
    "    \n",
    "    # Both characters are now assigned. Let's begin the match.\n",
    "    if p1assign == 'Yes' and p2assign == 'Yes':\n",
    "        print(\"{} vs {}\".format(player1_character,player2_character))"
   ]
  },
  {
   "cell_type": "code",
   "execution_count": 4,
   "metadata": {},
   "outputs": [],
   "source": [
    "# Choose (1-9)\n",
    "c1 = '(1-9)'\n",
    "\n",
    "# Questions to ask next position\n",
    "q1 = 'By the old gods and the new. Swear your position.'\n",
    "q2 = 'Winter is coming.'\n",
    "q3 = 'He who passes the sentence should swing the sword.'\n",
    "q4 = \"Do you take me for an idiot?\"\n",
    "q5 = 'Blood of my blood. Your move.'\n",
    "q6 = \"They lay with the lions.\"\n",
    "q7 = \"Dracarys.\"\n",
    "q8 = \"Don't ever betray me.\"\n",
    "q9 = \"It is known.\"\n",
    "q10 = \"The night is dark and full of terrors.\"\n",
    "\n",
    "# Victory\n",
    "v1 = 'King in the North:'\n",
    "v2 = \"We do not sow. We take what is ours. What is dead may never die:\"\n",
    "v3 = \"Stick him with the pointy end:\"\n",
    "v4 = \"Don't trust anybody. Life is safer that way.\"\n",
    "v5 = \"My Lord\"\n",
    "v6 = \"Killing is the sweetest thing there is.\"\n",
    "v7 = \"There has never lived a more loyal squire:\"\n",
    "v8 = \"The birds sing in the west. The birds sing in the east. If you know how to listen:\"\n",
    "v9 = \"Excellent lamprey pie:\"\n",
    "\n",
    "# Loser\n",
    "l1 = \"There's no cure for being a cunt:\"\n",
    "l2 = \"Dead:\"\n",
    "l3 = \"Pointy end ----->\"\n",
    "l4 = \"Trusted somebody:\"\n",
    "l5 = \"My ...\"\n",
    "l6 = \"Killed:\"\n",
    "l7 = \"Swine. The lot of you:\"\n",
    "l8 = \"Hard of hearing:\"\n",
    "l9 = \"Lamprey:\"\n",
    "\n",
    "\n",
    "def player_choice(board):\n",
    "    \n",
    "    pass"
   ]
  },
  {
   "cell_type": "code",
   "execution_count": null,
   "metadata": {},
   "outputs": [],
   "source": []
  }
 ],
 "metadata": {
  "kernelspec": {
   "display_name": "Python 3",
   "language": "python",
   "name": "python3"
  },
  "language_info": {
   "codemirror_mode": {
    "name": "ipython",
    "version": 3
   },
   "file_extension": ".py",
   "mimetype": "text/x-python",
   "name": "python",
   "nbconvert_exporter": "python",
   "pygments_lexer": "ipython3",
   "version": "3.7.3"
  }
 },
 "nbformat": 4,
 "nbformat_minor": 2
}
